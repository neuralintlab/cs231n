{
 "cells": [
  {
   "cell_type": "code",
   "execution_count": 1,
   "metadata": {},
   "outputs": [],
   "source": [
    "import pickle\n",
    "import numpy as np\n",
    "import matplotlib.pyplot as plt\n",
    "from tqdm import tqdm\n",
    "from statistics import mode\n",
    "\n",
    "DATA_PATH = '/home/youngmin/Dataset/cifar-10-batches-py/'"
   ]
  },
  {
   "cell_type": "markdown",
   "metadata": {},
   "source": [
    "### 1. Data Exploration"
   ]
  },
  {
   "cell_type": "code",
   "execution_count": 2,
   "metadata": {},
   "outputs": [],
   "source": [
    "def load_data(file_name):\n",
    "    with open(DATA_PATH + file_name, 'rb') as fo:\n",
    "        dict = pickle.load(fo, encoding='latin1')\n",
    "        \n",
    "    return dict"
   ]
  },
  {
   "cell_type": "code",
   "execution_count": 3,
   "metadata": {},
   "outputs": [
    {
     "data": {
      "text/plain": [
       "{'num_cases_per_batch': 10000,\n",
       " 'label_names': ['airplane',\n",
       "  'automobile',\n",
       "  'bird',\n",
       "  'cat',\n",
       "  'deer',\n",
       "  'dog',\n",
       "  'frog',\n",
       "  'horse',\n",
       "  'ship',\n",
       "  'truck'],\n",
       " 'num_vis': 3072}"
      ]
     },
     "execution_count": 3,
     "metadata": {},
     "output_type": "execute_result"
    }
   ],
   "source": [
    "batches_meta = load_data('batches.meta')\n",
    "batches_meta"
   ]
  },
  {
   "cell_type": "code",
   "execution_count": 4,
   "metadata": {},
   "outputs": [
    {
     "name": "stdout",
     "output_type": "stream",
     "text": [
      "<class 'dict'>\n"
     ]
    }
   ],
   "source": [
    "batch = load_data('data_batch_1')\n",
    "print(type(batch))"
   ]
  },
  {
   "cell_type": "code",
   "execution_count": 5,
   "metadata": {},
   "outputs": [
    {
     "name": "stdout",
     "output_type": "stream",
     "text": [
      "type of data for batch_label=<class 'str'>, len=21\n",
      "type of data for labels=<class 'list'>, len=10000\n",
      "type of data for data=<class 'numpy.ndarray'>, len=10000\n",
      "type of data for filenames=<class 'list'>, len=10000\n"
     ]
    }
   ],
   "source": [
    "for key, value in batch.items():\n",
    "    print(f'type of data for {key}={type(value)}, len={len(value)}')"
   ]
  },
  {
   "cell_type": "code",
   "execution_count": 6,
   "metadata": {},
   "outputs": [
    {
     "name": "stdout",
     "output_type": "stream",
     "text": [
      "training batch 1 of 5\n"
     ]
    }
   ],
   "source": [
    "print(batch['batch_label'])"
   ]
  },
  {
   "cell_type": "code",
   "execution_count": 7,
   "metadata": {},
   "outputs": [
    {
     "name": "stdout",
     "output_type": "stream",
     "text": [
      "[0 1 2 3 4 5 6 7 8 9]\n",
      "<class 'int'>\n"
     ]
    }
   ],
   "source": [
    "# print unique labels and data type\n",
    "print(np.unique(batch['labels']))\n",
    "print(type(batch['labels'][0]))"
   ]
  },
  {
   "cell_type": "code",
   "execution_count": 8,
   "metadata": {},
   "outputs": [
    {
     "name": "stdout",
     "output_type": "stream",
     "text": [
      "(10000, 3072)\n",
      "<class 'numpy.uint8'>\n",
      "min value in data = 0\n",
      "max value in data = 255\n"
     ]
    }
   ],
   "source": [
    "print(batch['data'].shape)\n",
    "print(type(batch['data'][0][0]))\n",
    "print('min value in data =', np.min(batch['data']))\n",
    "print('max value in data =', np.max(batch['data']))"
   ]
  },
  {
   "cell_type": "code",
   "execution_count": 9,
   "metadata": {},
   "outputs": [
    {
     "data": {
      "image/png": "[encoded data removed]",
      "text/plain": [
       "<Figure size 432x288 with 1 Axes>"
      ]
     },
     "metadata": {
      "needs_background": "light"
     },
     "output_type": "display_data"
    }
   ],
   "source": [
    "plt.figure()\n",
    "plt.hist(batch['data'].reshape(-1), bins=256)\n",
    "plt.title('Distribution of data value')\n",
    "plt.show()"
   ]
  },
  {
   "cell_type": "code",
   "execution_count": 10,
   "metadata": {},
   "outputs": [],
   "source": [
    "# check sample images and labels\n",
    "def show_sample(batch, idx):\n",
    "    # show image with a label\n",
    "    sample_image = np.swapaxes(batch['data'][idx].reshape(32, 32, 3, order='F'), 0, 1)\n",
    "    plt.figure()\n",
    "    plt.imshow(sample_image)\n",
    "    plt.title(batch['labels'][idx])\n",
    "    plt.show()\n",
    "\n",
    "    # show arrays\n",
    "    with np.printoptions(threshold=np.inf):\n",
    "        print('Red')\n",
    "        print(sample_image[:, :, 0])\n",
    "        print('Green')\n",
    "        print(sample_image[:, :, 1])\n",
    "        print('Blue')\n",
    "        print(sample_image[:, :, 2])"
   ]
  },
  {
   "cell_type": "code",
   "execution_count": 11,
   "metadata": {},
   "outputs": [
    {
     "data": {
      "image/png": "[encoded data removed]",
      "text/plain": [
       "<Figure size 432x288 with 1 Axes>"
      ]
     },
     "metadata": {
      "needs_background": "light"
     },
     "output_type": "display_data"
    },
    {
     "name": "stdout",
     "output_type": "stream",
     "text": [
      "Red\n",
      "[[ 59  43  50  68  98 119 139 145 149 149 131 125 142 144 137 129 137 134\n",
      "  124 139 139 133 136 139 152 163 168 159 158 158 152 148]\n",
      " [ 16   0  18  51  88 120 128 127 126 116 106 101 105 113 109 112 119 109\n",
      "  105 125 127 122 131 124 121 131 132 133 133 123 119 122]\n",
      " [ 25  16  49  83 110 129 130 121 113 112 112 106 105 128 124 130 127 122\n",
      "  115 120 130 131 139 127 126 127 130 142 130 118 120 109]\n",
      " [ 33  38  87 106 115 117 114 105 107 121 125 109 113 146 133 127 118 117\n",
      "  127 122 132 137 136 131 124 130 132 135 130 125 121  94]\n",
      " [ 50  59 102 127 124 121 120 114 107 125 129 106 108 124 121 108  98 110\n",
      "  117 120 134 140 131 141 135 127 121 119 103  87  75  67]\n",
      " [ 71  84 110 129 136 131 129 119 108 122 123 105 107 111 108  98  94  97\n",
      "   83  88 102  97  88 118 140 136 120 107  88  67  35  32]\n",
      " [ 97 111 123 130 136 132 122 121 127 138 124 120 107  80  68  74 101 105\n",
      "   65  58  63  78 136 122 139 151 129 108  95  96  89  66]\n",
      " [115 119 130 140 133 127 138 137 131 133 134 108  72  51  41  72 181 209\n",
      "  125  68  64  82 123 112 135 151 137 114 105 101 126 102]\n",
      " [137 128 132 128 119 123 128 130 121 137 131  74  54  50  44  86 203 217\n",
      "  162 100  77  75  74  76 107 135 135 129 127 119 125 134]\n",
      " [154 154 156 140 123 125 126 127 133 132  90  63  62  70  79 103 152 148\n",
      "  141 121 101  96  86  75 101 136 136 134 133 132 128 133]\n",
      " [154 155 156 147 133 137 139 134 141 121  80  97  90  98 137 139 148 134\n",
      "  138 134 140 175 142 102 108 135 131 133 138 136 130 134]\n",
      " [145 146 146 135 127 129 117 103 130 120 111 146 136 163 169 152 161 148\n",
      "  177 161 195 209 189 125 108 140 137 132 136 133 132 133]\n",
      " [142 141 140 144 147 121  84  88 109 101 138 213 178 191 211 189 205 207\n",
      "  213 191 199 188 161 130 124 131 130 131 134 135 136 133]\n",
      " [158 154 142 143 132  90  72  81  84 107 165 229 183 191 239 219 228 225\n",
      "  214 216 210 200 189 174 161 139 134 126 131 142 136 138]\n",
      " [145 149 147 147 136  80  89 105  96 129 192 185 145 203 223 242 244 238\n",
      "  241 227 225 235 219 224 215 156 128 129 131 133 128 130]\n",
      " [148 146 145 147 133  63  66  88 113 182 220 138 162 206 196 247 255 255\n",
      "  245 236 230 215 231 250 241 158 125 126 124 125 126 124]\n",
      " [149 143 144 151 132  64  84 112 163 223 206 145 196 204 220 243 245 239\n",
      "  234 231 195 150 208 250 227 163 145 143 140 136 121 114]\n",
      " [147 134 140 148 135 100 108 144 210 248 175 175 220 226 230 233 224 201\n",
      "  184 181 190 170 179 231 223 162 146 140 139 145 142 128]\n",
      " [152 117 114 123 126 122  93 179 238 248 170 185 241 230 187 180 166 146\n",
      "  149 157 184 216 212 236 236 166 136 134 130 127 137 151]\n",
      " [145 127 128 133 132 135 171 237 252 229 173 169 220 194 123 135 127 151\n",
      "  165 132 151 202 240 240 222 156 119 120 112 100  99 140]\n",
      " [143 127 129 129 130 140 219 244 210 193 166 153 191 179 128 147 149 172\n",
      "  147 128 141 173 202 190 198 152 100 109 119 121 108 136]\n",
      " [143 125 131 128 123 153 148 166 188 182 171 165 195 190 152 143 152 153\n",
      "  142 141 135 136 148 141 141 138 111 111 121 129 138 179]\n",
      " [141 131 139 139 138 151 128 136 175 173 189 205 201 168 151 145 146 149\n",
      "  153 149 144 144 145 143 129 123 124 113 108 113 148 199]\n",
      " [143 139 138 149 160 150 147 151 169 167 179 212 203 207 149 139 144 137\n",
      "  151 155 152 140 107  91  84 105 132 118  96 102 159 190]\n",
      " [149 133 136 147 150 153 157 162 175 190 166 202 224 197 192 180 146 126\n",
      "  141 156 153 115  77  79  93 126 133 119 113 140 187 154]\n",
      " [172 144 135 136 135 139 153 163 166 184 166 150 184 156 158 168 149 135\n",
      "  130 132 128 127 135 143 139 136 127 121 135 189 211 136]\n",
      " [202 187 151 128 122 134 142 150 153 148 135 127 153 166 143 130 128 151\n",
      "  152 135 139 155 161 154 154 143 130 132 171 215 186 117]\n",
      " [216 193 168 151 131 126 138 144 142 137 120 131 145 144 137 127 126 139\n",
      "  153 149 140 135 147 148 149 149 137 143 203 206 124  71]\n",
      " [220 201 186 172 156 142 142 153 150 139 126 136 148 141 131 126 127 138\n",
      "  150 154 149 124 126 141 145 147 127 114 186 173  56  33]\n",
      " [208 201 198 191 183 171 159 147 135 130 139 147 144 145 137 136 137 148\n",
      "  152 150 155 138 120 128 142 135  90  50 137 160  56  53]\n",
      " [180 173 186 194 198 201 189 173 156 139 142 145 141 141 139 140 143 139\n",
      "  138 143 146 135 117 112 122 104  58  34 131 184  97  83]\n",
      " [177 168 179 188 202 218 218 207 191 175 166 163 163 161 153 159 162 149\n",
      "  140 148 161 144 112 119 130 120  92 103 170 216 151 123]]\n",
      "Green\n",
      "[[ 62  46  48  54  73  91 107 110 117 120 103  99 115 112 105  97 106 106\n",
      "   97 113 112 105 105 108 120 131 136 129 130 132 125 124]\n",
      " [ 20   0   8  27  51  82  89  86  87  79  70  67  70  74  70  72  79  71\n",
      "   69  89  92  85  89  82  79  89  91  94  96  88  83  87]\n",
      " [ 24   7  27  50  72  92  93  82  77  78  79  75  73  92  87  92  89  85\n",
      "   79  85  95  96 102  90  89  89  92 105  94  84  84  73]\n",
      " [ 25  20  54  63  70  74  72  62  68  84  90  75  77 105  91  84  76  76\n",
      "   87  81  92  99  99  93  86  91  90  93  90  87  85  62]\n",
      " [ 32  32  65  79  77  77  78  74  72  88  89  68  71  83  78  68  65  74\n",
      "   80  80  93 106  95  98  92  84  79  79  67  57  47  42]\n",
      " [ 48  53  73  82  88  84  84  77  70  82  81  65  72  77  74  65  62  63\n",
      "   56  58  68  69  54  74  96  97  80  68  54  39  10  13]\n",
      " [ 69  75  85  84  88  83  74  74  83  94  79  79  71  50  43  41  51  56\n",
      "   37  36  37  51  93  68  86 106  87  68  59  63  61  47]\n",
      " [ 82  76  90  97  88  81  90  89  86  89  91  70  39  26  22  31 102 127\n",
      "   76  40  38  53  77  56  81 103  95  76  69  66  92  74]\n",
      " [100  82  91  87  81  82  85  85  80  97  94  42  25  29  29  39 106 109\n",
      "   90  58  42  43  39  35  67  96  97  91  89  83  86  95]\n",
      " [120 112 114 100  89  86  86  91  97  97  60  35  33  39  50  53  70  64\n",
      "   79  75  58  54  48  38  63  91  92  93  93  93  86  92]\n",
      " [122 117 117 108 100 100 102 102 111  87  40  53  45  56  91  84  87  73\n",
      "   82  85  92 129  99  61  67  90  87  91  97  95  86  93]\n",
      " [114 109 109  97  92  94  84  74 103  83  60  86  78 116 115 100 116  97\n",
      "  121 110 150 167 146  78  63  96  95  93  95  90  87  92]\n",
      " [115 106 105 105 110  89  56  61  80  57  79 150 123 150 169 148 164 162\n",
      "  164 143 158 151 121  83  77  87  91  93  93  91  89  91]\n",
      " [131 119 107 102  92  59  44  52  47  55 106 176 137 158 216 192 188 188\n",
      "  177 174 171 169 162 137 118  95  96  90  92  98  89  97]\n",
      " [115 109 108 105  95  47  57  68  51  81 152 148 101 162 200 227 227 220\n",
      "  219 197 191 209 206 208 192 118  89  95  95  97  89  92]\n",
      " [116 100 100 100  96  42  43  50  65 146 191  94 105 156 166 234 253 252\n",
      "  234 217 208 196 217 241 229 132  95  97  92  91  88  88]\n",
      " [115  95  97  99  87  40  59  69 121 204 182  90 133 157 188 226 237 233\n",
      "  224 217 181 137 193 241 216 142 127 129 123 116  95  82]\n",
      " [111  88  99 103  89  64  73 104 181 243 147 119 176 197 207 218 212 186\n",
      "  163 158 171 157 167 218 206 133 116 115 116 123 119 102]\n",
      " [114  75  80  90  91  83  58 154 226 243 134 132 214 218 169 160 146 119\n",
      "  116 124 157 195 198 221 212 125  85  81  83  86 105 128]\n",
      " [105  82  90  92  89  95 145 227 247 213 136 121 182 169  89  98  91 114\n",
      "  127  99 126 183 228 225 196 117  76  75  66  65  74 121]\n",
      " [104  80  86  85  86 102 196 232 199 173 129 104 146 145  86 102 106 131\n",
      "  108  94 113 150 183 171 175 124  72  81  88  92  82 119]\n",
      " [104  76  85  81  81 117 118 141 166 156 134 115 148 153 108  95 105 110\n",
      "  102 102 101 101 110 106 111 113 100 111 118 116 116 162]\n",
      " [102  80  89  87  90 111  91  97 136 136 151 160 157 131 108  97 101 106\n",
      "  110 108 104 105 104 102  96 103 126 135 133 122 136 184]\n",
      " [103  87  89  96 109 106 104 104 121 123 141 174 168 177 112  96 102  94\n",
      "  107 111 109 101  76  60  61  99 142 141 121 113 149 174]\n",
      " [107  80  88  99 104 109 112 117 131 145 124 168 197 175 165 144 106  82\n",
      "   97 112 109  74  43  50  73 117 134 116  99 121 165 132]\n",
      " [128  88  85  88  90  94 108 117 120 136 118 110 149 121 123 130 109  91\n",
      "   85  88  84  83  92 105 108 112 105  92 102 159 181 107]\n",
      " [157 129 100  79  76  88  98 106 106  99  87  82 109 121  99  88  87 108\n",
      "  106  90  95 110 113 107 112 105  93  90 131 183 155  86]\n",
      " [174 136 122 111  88  82  94 100  95  92  78  87  99 101  94  83  82  94\n",
      "  108 104  95  91 103 105 108 109 101 107 167 173  93  48]\n",
      " [182 150 148 139 120 103 100 108 105  98  88  92 102 101  89  82  81  88\n",
      "  100 104 101  78  85 101 107 112 101  87 155 144  29  19]\n",
      " [170 153 161 157 146 135 121 107  95  87  93  98  95  99  91  89  90 102\n",
      "  106 103 110  94  76  84 102 103  69  24 105 133  31  34]\n",
      " [139 123 144 153 158 164 153 137 118  99  97  97  92  93  91  91  95  99\n",
      "   98  96  93  84  80  72  81  67  31   5  94 148  62  53]\n",
      " [144 129 142 149 168 189 191 181 163 143 132 128 127 123 114 120 124 116\n",
      "  104 103 105  95  90  91  96  87  67  78 140 184 118  92]]\n",
      "Blue\n",
      "[[ 63  45  43  42  52  63  75  80  89  93  77  76  91  86  79  71  79  76\n",
      "   64  78  75  69  74  77  89 100 108 102 104 108 102 103]\n",
      " [ 20   0   0   8  21  43  45  44  50  44  37  35  36  35  33  37  44  33\n",
      "   27  46  46  39  47  41  37  48  53  58  60  55  50  57]\n",
      " [ 21   0   8  23  41  54  55  47  43  44  46  45  38  48  47  56  56  51\n",
      "   43  47  54  55  62  51  49  50  53  68  58  50  50  42]\n",
      " [ 17   4  25  28  33  35  37  33  33  45  53  40  38  58  47  45  40  41\n",
      "   52  43  51  58  57  52  44  50  49  51  50  50  48  35]\n",
      " [ 21  11  34  39  36  36  40  39  34  49  51  31  33  42  39  29  23  37\n",
      "   49  41  50  66  58  66  51  45  41  40  32  27  23  25]\n",
      " [ 29  24  37  38  45  42  43  37  33  44  39  25  31  31  34  27  21  32\n",
      "   38  36  42  46  36  72  79  64  45  34  24  15   0   4]\n",
      " [ 40  36  43  38  44  40  30  31  46  54  34  39  34  14  17  17  21  23\n",
      "   16  19  18  31  83  80  79  69  49  36  29  37  38  30]\n",
      " [ 49  33  47  53  48  40  47  46  48  46  46  39  19  10  14  17  69  81\n",
      "   47  23  17  30  62  55  60  61  54  39  34  33  59  46]\n",
      " [ 68  41  51  48  44  43  44  44  40  54  53  20  16  16  18  15  56  62\n",
      "   71  49  27  24  24  22  36  59  58  49  48  43  45  56]\n",
      " [ 89  77  82  65  53  50  48  52  60  68  30   9  16  20  30  26  33  37\n",
      "   61  57  41  33  24  21  32  53  53  50  52  52  45  55]\n",
      " [ 94  82  82  70  64  66  68  66  81  68  13  17  17  30  57  49  54  37\n",
      "   46  57  76 106  53  26  25  41  45  51  57  55  46  57]\n",
      " [ 89  73  69  55  57  65  55  42  70  55  14  22  23  77  69  52  73  57\n",
      "   82  71 113 123  94  40  25  52  59  56  57  51  46  56]\n",
      " [ 86  69  68  64  74  65  34  33  44  23  19  59  41  98 122  99 110 115\n",
      "  118  91  97  88  76  50  38  51  61  60  57  52  48  56]\n",
      " [ 98  82  74  65  59  36  22  24  19  25  50  92  57 103 176 149 128 120\n",
      "  112 112 110 109 114 100  76  57  66  59  56  60  48  61]\n",
      " [ 79  66  68  65  62  21  32  40  26  45 113 107  51 121 170 196 186 165\n",
      "  163 144 139 157 164 181 156  78  57  62  60  60  50  56]\n",
      " [ 79  54  55  51  54  21  31  34  37 110 169  71  63 112 135 212 232 219\n",
      "  197 180 170 160 197 229 195  78  49  58  52  49  46  54]\n",
      " [ 79  49  51  51  49  21  41  37  75 166 157  56  84 110 156 208 226 215\n",
      "  201 192 152 100 154 216 173  78  60  62  55  46  30  40]\n",
      " [ 76  47  61  66  60  38  43  66 140 212 115  73 129 164 179 196 195 166\n",
      "  138 128 136 105 105 181 161  71  43  34  33  38  35  41]\n",
      " [ 80  37  48  57  56  48  32 138 212 229 104  88 177 195 142 131 115  85\n",
      "   79  83 110 141 152 197 176  63  16  13  13  16  27  54]\n",
      " [ 72  41  51  53  49  51 110 205 235 194 100  73 138 135  55  60  48  63\n",
      "   74  50  79 142 203 210 169  64  12  16  14  15  19  54]\n",
      " [ 66  38  49  46  45  59 161 210 186 151  92  55  96 105  47  58  59  78\n",
      "   54  45  67 112 160 147 146  86  26  34  43  50  36  50]\n",
      " [ 64  32  48  43  39  76  85 118 147 132  99  69  99 110  66  49  56  58\n",
      "   51  54  55  60  74  65  68  71  37  31  35  39  45  83]\n",
      " [ 65  35  46  44  50  71  52  61 104 107 118 120 113  89  65  53  52  57\n",
      "   61  61  59  59  59  60  48  39  30  14   8  10  44 102]\n",
      " [ 72  44  42  52  72  64  58  57  81  87 105 138 132 141  74  55  56  47\n",
      "   61  65  63  55  38  34  23  25  34  20   4   9  63  99]\n",
      " [ 74  37  48  59  63  62  67  78  96 107  84 133 168 148 133 107  64  40\n",
      "   52  66  61  29  14  25  33  47  39  31  24  42  91  75]\n",
      " [ 76  18  35  48  45  49  68  83  82 100  88  75 110  86  87  92  71  51\n",
      "   43  43  37  36  52  66  62  52  39  39  44  87 114  58]\n",
      " [ 82  26  25  34  41  49  53  56  58  63  59  44  60  77  59  51  52  70\n",
      "   65  48  50  63  65  63  67  54  44  46  70 106  91  48]\n",
      " [ 87  16  19  35  34  35  49  53  53  51  34  41  52  57  54  48  51  60\n",
      "   69  63  53  46  57  59  62  63  54  57 102 105  49  26]\n",
      " [ 91  22  24  28  26  30  51  75  73  57  38  47  62  60  51  49  51  52\n",
      "   60  65  60  36  41  55  61  68  59  46  98  87   9   9]\n",
      " [ 96  34  26  27  34  32  42  52  49  46  57  62  55  57  51  52  54  58\n",
      "   60  61  64  46  33  39  58  62  40  11  60  70   7  20]\n",
      " [ 96  42  30  25  34  36  32  32  38  38  49  56  52  52  51  53  58  60\n",
      "   60  56  43  33  38  29  39  30  11   0  57  94  34  34]\n",
      " [116  94  87  67  68  76  72  70  79  82  86  92  94  92  84  90  93  91\n",
      "   83  77  69  55  59  58  65  59  46  57 104 140  84  72]]\n"
     ]
    }
   ],
   "source": [
    "show_sample(batch, 0)"
   ]
  },
  {
   "cell_type": "markdown",
   "metadata": {},
   "source": [
    "### 2. Load Data"
   ]
  },
  {
   "cell_type": "code",
   "execution_count": 13,
   "metadata": {},
   "outputs": [],
   "source": [
    "# data file tuple\n",
    "data_list_training = ('data_batch_1', 'data_batch_2', 'data_batch_3', 'data_batch_4', 'data_batch_5')\n",
    "data_test = 'test_batch'"
   ]
  },
  {
   "cell_type": "code",
   "execution_count": 14,
   "metadata": {},
   "outputs": [],
   "source": [
    "# load and check training data\n",
    "Xtr = []\n",
    "Ytr = []\n",
    "\n",
    "for batch_name in data_list_training:\n",
    "    batch = load_data(batch_name)\n",
    "    Xtr.append(batch['data'])\n",
    "    Ytr.append(batch['labels'])\n",
    "    \n",
    "Xtr = np.concatenate(Xtr)\n",
    "Ytr = np.concatenate(Ytr)"
   ]
  },
  {
   "cell_type": "code",
   "execution_count": 15,
   "metadata": {},
   "outputs": [
    {
     "name": "stdout",
     "output_type": "stream",
     "text": [
      "(50000, 3072)\n",
      "(50000,)\n"
     ]
    }
   ],
   "source": [
    "print(Xtr.shape)\n",
    "print(Ytr.shape)"
   ]
  },
  {
   "cell_type": "code",
   "execution_count": 16,
   "metadata": {},
   "outputs": [
    {
     "name": "stdout",
     "output_type": "stream",
     "text": [
      "{0: 5000, 1: 5000, 2: 5000, 3: 5000, 4: 5000, 5: 5000, 6: 5000, 7: 5000, 8: 5000, 9: 5000}\n"
     ]
    }
   ],
   "source": [
    "labels, counts = np.unique(Ytr, return_counts=True)\n",
    "print({label:count for label, count in zip(labels, counts)})"
   ]
  },
  {
   "cell_type": "code",
   "execution_count": 17,
   "metadata": {},
   "outputs": [
    {
     "name": "stdout",
     "output_type": "stream",
     "text": [
      "(10000, 3072)\n",
      "(10000,)\n"
     ]
    }
   ],
   "source": [
    "# load and check test data\n",
    "batch = load_data(data_test)\n",
    "Xte = batch['data']\n",
    "Yte = np.array(batch['labels'])\n",
    "print(Xte.shape)\n",
    "print(Yte.shape)\n"
   ]
  },
  {
   "cell_type": "markdown",
   "metadata": {},
   "source": [
    "### 3. Linear Classifier"
   ]
  },
  {
   "cell_type": "markdown",
   "metadata": {},
   "source": [
    "<img src=\"cs231n_slide_001.png\" width=\"600\"></img>"
   ]
  },
  {
   "cell_type": "markdown",
   "metadata": {},
   "source": [
    "### Our dimensions\n",
    "* a mini-batch of images, x: (batch_size, n_dim) = (batch_size, 3072)\n",
    "* weight matrix, W: (n_dim, n_class) = (3072, 10)\n",
    "* bias, b: (n_class) = (10)\n",
    "* output: np.dot(x, W) + b, shape = (batch_size, 3072) • (3072, 10) + (10) = (batch_size, 10)"
   ]
  },
  {
   "cell_type": "code",
   "execution_count": 18,
   "metadata": {},
   "outputs": [],
   "source": [
    "# linear classifer class\n",
    "class LinearClassifier(object):\n",
    "\n",
    "    # initialize parameters\n",
    "    def __init__(self, n_dim, n_class):\n",
    "        # n_dim = number of pixels in image (3072 in CIFAR-10 image)\n",
    "        # n_class = number of classes to classify (10 in CIFAR-10)\n",
    "        self.W = np.random.randn(n_dim, n_class)  # initial random weight: W.shape = (10, 3072)\n",
    "        self.b = np.zeros(n_class) # initial zero bias: b.shape = (10)\n",
    "\n",
    "    # forward-pass: giving softmax scores for each class\n",
    "    def forward(self, x): # x is a mini-batch of images: x.shape = (batch_size, n_dim)\n",
    "        return np.dot(x, self.W) + self.b\n"
   ]
  },
  {
   "cell_type": "code",
   "execution_count": 19,
   "metadata": {},
   "outputs": [
    {
     "name": "stdout",
     "output_type": "stream",
     "text": [
      "shape of W = (3072, 10)\n",
      "shape of b = (10,)\n"
     ]
    }
   ],
   "source": [
    "# make an instance of linear classifier\n",
    "n_dim = Xtr.shape[1]\n",
    "n_class = 10\n",
    "\n",
    "lc = LinearClassifier(n_dim, n_class)\n",
    "\n",
    "print('shape of W =', lc.W.shape)\n",
    "print('shape of b =', lc.b.shape)"
   ]
  },
  {
   "cell_type": "code",
   "execution_count": 20,
   "metadata": {},
   "outputs": [],
   "source": [
    "# normalize data (run just once!)\n",
    "Xtr = (Xtr - 127.5) / 255\n",
    "Xte = (Xte - 127.5) / 255"
   ]
  },
  {
   "cell_type": "code",
   "execution_count": 21,
   "metadata": {},
   "outputs": [
    {
     "name": "stdout",
     "output_type": "stream",
     "text": [
      "Training set\n",
      "global mean = -0.02664\n",
      "global std  = 0.25157\n",
      "global max = 0.50000\n",
      "global min = -0.50000\n",
      "\n",
      "Test set\n",
      "global mean = -0.02342\n",
      "global std  = 0.25122\n",
      "global max = 0.50000\n",
      "global min = -0.50000\n"
     ]
    }
   ],
   "source": [
    "# check normalized data\n",
    "print('Training set')\n",
    "print('global mean = %.5f' % np.mean(Xtr))\n",
    "print('global std  = %.5f' % np.std(Xtr))\n",
    "print('global max = %.5f' % np.max(Xtr))\n",
    "print('global min = %.5f' % np.min(Xtr))\n",
    "\n",
    "print()\n",
    "print('Test set')\n",
    "print('global mean = %.5f' % np.mean(Xte))\n",
    "print('global std  = %.5f' % np.std(Xte))\n",
    "print('global max = %.5f' % np.max(Xte))\n",
    "print('global min = %.5f' % np.min(Xte))"
   ]
  },
  {
   "cell_type": "code",
   "execution_count": 22,
   "metadata": {},
   "outputs": [
    {
     "name": "stdout",
     "output_type": "stream",
     "text": [
      "shape of mini batch = (4, 3072)\n"
     ]
    }
   ],
   "source": [
    "# sample mini-batch\n",
    "mini_batch = Xtr[:4, :] # the first 4 images from training set\n",
    "print('shape of mini batch =', mini_batch.shape)"
   ]
  },
  {
   "cell_type": "code",
   "execution_count": 23,
   "metadata": {},
   "outputs": [
    {
     "name": "stdout",
     "output_type": "stream",
     "text": [
      "shape of output = (4, 10)\n",
      "[[  6.19753789 -14.62859206 -11.00103395  11.23478537 -18.97158335\n",
      "    7.78850014  14.76150544   2.79917452  15.21169334  -6.01630106]\n",
      " [ 26.94257572   2.00412335  11.49018554   0.77082373  -1.88651534\n",
      "    1.98858418  -3.80694921  -2.61440709  15.75523734  -9.33087724]\n",
      " [ 14.42723586  -7.9025127    9.41526175  17.135364     7.29097973\n",
      "  -15.48421154  -1.54725159   8.39991433 -21.91234378  -2.39185283]\n",
      " [  1.65946135 -10.79406384   8.23771669  12.1803299   -5.3701786\n",
      "   26.45854312  -0.31081592  -6.72476082   4.31732147  -0.05013305]]\n"
     ]
    }
   ],
   "source": [
    "# output\n",
    "output = lc.forward(mini_batch)\n",
    "print('shape of output =', output.shape) # each row assigns 10 numbers \n",
    "print(output)\n",
    "\n",
    "# output - np.max(output, axis=1)[:, np.newaxis]"
   ]
  },
  {
   "cell_type": "code",
   "execution_count": 24,
   "metadata": {},
   "outputs": [
    {
     "data": {
      "text/plain": [
       "array([ 7.37568628, 41.31278097,  7.43058323, 29.60342032])"
      ]
     },
     "execution_count": 24,
     "metadata": {},
     "output_type": "execute_result"
    }
   ],
   "source": [
    "output.sum(axis=1)"
   ]
  },
  {
   "cell_type": "code",
   "execution_count": 25,
   "metadata": {},
   "outputs": [],
   "source": [
    "# softmax function (raw ver)\n",
    "def softmax(y): # input y is output of the model y = xW + b\n",
    "    denominator = np.sum(np.exp(y), axis=1)[:, np.newaxis]\n",
    "    return np.exp(y) / denominator"
   ]
  },
  {
   "cell_type": "code",
   "execution_count": 26,
   "metadata": {},
   "outputs": [
    {
     "data": {
      "text/plain": [
       "array([[7.34321283e-05, 6.62541060e-14, 2.49253500e-12, 1.13118828e-02,\n",
       "        8.61143728e-16, 3.60439386e-04, 3.84742326e-01, 2.45468434e-06,\n",
       "        6.03509465e-01, 3.64320201e-10],\n",
       "       [9.99985957e-01, 1.47693591e-11, 1.94583547e-07, 4.30275315e-12,\n",
       "        3.01771858e-13, 1.45416294e-11, 4.42226645e-14, 1.45733491e-13,\n",
       "        1.38482399e-05, 1.76454785e-16],\n",
       "       [6.24569254e-02, 1.25283541e-11, 4.15822420e-04, 9.36926901e-01,\n",
       "        4.96985759e-05, 6.38563438e-15, 7.21022552e-09, 1.50642710e-04,\n",
       "        1.03157709e-17, 3.09844071e-09],\n",
       "       [1.69783449e-11, 6.62823783e-17, 1.22122405e-08, 6.29579399e-07,\n",
       "        1.50300876e-14, 9.99999358e-01, 2.36709019e-12, 3.87859050e-15,\n",
       "        2.42208475e-10, 3.07204757e-12]])"
      ]
     },
     "execution_count": 26,
     "metadata": {},
     "output_type": "execute_result"
    }
   ],
   "source": [
    "# too big or small numbers may cause numerical unstability\n",
    "softmax(output)"
   ]
  },
  {
   "cell_type": "code",
   "execution_count": 27,
   "metadata": {},
   "outputs": [
    {
     "data": {
      "text/plain": [
       "array([1., 1., 1., 1.])"
      ]
     },
     "execution_count": 27,
     "metadata": {},
     "output_type": "execute_result"
    }
   ],
   "source": [
    "softmax(output).sum(axis=1)"
   ]
  },
  {
   "cell_type": "code",
   "execution_count": 28,
   "metadata": {},
   "outputs": [],
   "source": [
    "# softmax function (stable ver)\n",
    "def softmax(y): # input y is output of the model y = xW + b\n",
    "    y = y - np.max(y, axis=1)[:, np.newaxis] # maximum output would be 0, np.exp(max) = 1\n",
    "    denominator = np.sum(np.exp(y), axis=1)[:, np.newaxis]\n",
    "    return np.exp(y) / denominator"
   ]
  },
  {
   "cell_type": "code",
   "execution_count": 29,
   "metadata": {},
   "outputs": [
    {
     "data": {
      "text/plain": [
       "array([[7.34321283e-05, 6.62541060e-14, 2.49253500e-12, 1.13118828e-02,\n",
       "        8.61143728e-16, 3.60439386e-04, 3.84742326e-01, 2.45468434e-06,\n",
       "        6.03509465e-01, 3.64320201e-10],\n",
       "       [9.99985957e-01, 1.47693591e-11, 1.94583547e-07, 4.30275315e-12,\n",
       "        3.01771858e-13, 1.45416294e-11, 4.42226645e-14, 1.45733491e-13,\n",
       "        1.38482399e-05, 1.76454785e-16],\n",
       "       [6.24569254e-02, 1.25283541e-11, 4.15822420e-04, 9.36926901e-01,\n",
       "        4.96985759e-05, 6.38563438e-15, 7.21022552e-09, 1.50642710e-04,\n",
       "        1.03157709e-17, 3.09844071e-09],\n",
       "       [1.69783449e-11, 6.62823783e-17, 1.22122405e-08, 6.29579399e-07,\n",
       "        1.50300876e-14, 9.99999358e-01, 2.36709019e-12, 3.87859050e-15,\n",
       "        2.42208475e-10, 3.07204757e-12]])"
      ]
     },
     "execution_count": 29,
     "metadata": {},
     "output_type": "execute_result"
    }
   ],
   "source": [
    "softmax(output)"
   ]
  },
  {
   "cell_type": "code",
   "execution_count": 30,
   "metadata": {},
   "outputs": [],
   "source": [
    "# linear classifer class with softmax output\n",
    "class LinearClassifier(object):\n",
    "\n",
    "    # initialize parameters\n",
    "    def __init__(self, n_dim, n_class):\n",
    "        # n_dim = number of pixels in image (3072 in CIFAR-10 image)\n",
    "        # n_class = number of classes to classify (10 in CIFAR-10)\n",
    "        self.W = np.random.randn(n_dim, n_class)  # initial random weight: W.shape = (10, 3072)\n",
    "        self.b = np.zeros(n_class) # initial zero bias: b.shape = (10)\n",
    "\n",
    "    # forward-pass: giving softmax scores for each class\n",
    "    def forward(self, x): # x is a mini-batch of images: x.shape = (batch_size, n_dim)\n",
    "        y = np.dot(x, self.W) + self.b\n",
    "        return softmax(y)\n"
   ]
  },
  {
   "cell_type": "code",
   "execution_count": 31,
   "metadata": {},
   "outputs": [
    {
     "name": "stdout",
     "output_type": "stream",
     "text": [
      "shape of W = (3072, 10)\n",
      "shape of b = (10,)\n"
     ]
    }
   ],
   "source": [
    "# make an instance of linear classifier\n",
    "n_dim = Xtr.shape[1]\n",
    "n_class = 10\n",
    "\n",
    "lc = LinearClassifier(n_dim, n_class)\n",
    "\n",
    "print('shape of W =', lc.W.shape)\n",
    "print('shape of b =', lc.b.shape)"
   ]
  },
  {
   "cell_type": "code",
   "execution_count": 32,
   "metadata": {},
   "outputs": [
    {
     "name": "stdout",
     "output_type": "stream",
     "text": [
      "shape of output = (4, 10)\n",
      "[[2.13230912e-11 9.15327746e-02 1.65475448e-03 1.64295128e-10\n",
      "  1.53520015e-11 4.48767675e-15 9.06805907e-01 4.19364151e-19\n",
      "  8.67494023e-07 5.69596122e-06]\n",
      " [8.36758999e-09 1.07390425e-02 9.89015526e-01 3.12059184e-13\n",
      "  9.49224146e-12 3.53558554e-07 2.25365333e-04 1.96642461e-05\n",
      "  4.00822305e-08 2.08274052e-13]\n",
      " [8.09147962e-23 5.15929474e-08 4.52641549e-04 9.99547307e-01\n",
      "  9.14211527e-19 7.94554433e-29 3.15425697e-37 1.85335878e-33\n",
      "  3.99342438e-26 1.66260300e-10]\n",
      " [2.22042315e-08 9.49101465e-08 9.85293522e-01 2.71384265e-07\n",
      "  3.80657265e-14 3.02058740e-16 1.47060694e-02 1.77777943e-20\n",
      "  1.93437763e-08 8.95743497e-10]]\n"
     ]
    }
   ],
   "source": [
    "# output\n",
    "output = lc.forward(mini_batch)\n",
    "print('shape of output =', output.shape) # each row assigns 10 numbers \n",
    "print(output)"
   ]
  },
  {
   "cell_type": "code",
   "execution_count": 33,
   "metadata": {},
   "outputs": [
    {
     "data": {
      "text/plain": [
       "array([1., 1., 1., 1.])"
      ]
     },
     "execution_count": 33,
     "metadata": {},
     "output_type": "execute_result"
    }
   ],
   "source": [
    "output.sum(axis=1)"
   ]
  },
  {
   "cell_type": "code",
   "execution_count": 34,
   "metadata": {},
   "outputs": [
    {
     "data": {
      "text/plain": [
       "array([6, 9, 9, 4, 1, 1, 2, 7, 8, 3])"
      ]
     },
     "execution_count": 34,
     "metadata": {},
     "output_type": "execute_result"
    }
   ],
   "source": [
    "Ytr[:10]"
   ]
  },
  {
   "cell_type": "code",
   "execution_count": 41,
   "metadata": {},
   "outputs": [],
   "source": [
    "# one-hot encoder\n",
    "def onehot(y, n_class):\n",
    "    vectors = np.zeros((len(y), n_class))\n",
    "    for i, label in enumerate(y):\n",
    "        vectors[i, label] = 1\n",
    "    return vectors"
   ]
  },
  {
   "cell_type": "code",
   "execution_count": 42,
   "metadata": {},
   "outputs": [
    {
     "data": {
      "text/plain": [
       "array([[0., 0., 0., 0., 0., 0., 1., 0., 0., 0.],\n",
       "       [0., 0., 0., 0., 0., 0., 0., 0., 0., 1.],\n",
       "       [0., 0., 0., 0., 0., 0., 0., 0., 0., 1.],\n",
       "       [0., 0., 0., 0., 1., 0., 0., 0., 0., 0.],\n",
       "       [0., 1., 0., 0., 0., 0., 0., 0., 0., 0.],\n",
       "       [0., 1., 0., 0., 0., 0., 0., 0., 0., 0.],\n",
       "       [0., 0., 1., 0., 0., 0., 0., 0., 0., 0.],\n",
       "       [0., 0., 0., 0., 0., 0., 0., 1., 0., 0.],\n",
       "       [0., 0., 0., 0., 0., 0., 0., 0., 1., 0.],\n",
       "       [0., 0., 0., 1., 0., 0., 0., 0., 0., 0.]])"
      ]
     },
     "execution_count": 42,
     "metadata": {},
     "output_type": "execute_result"
    }
   ],
   "source": [
    "onehot(Ytr[:10], n_class)"
   ]
  },
  {
   "cell_type": "code",
   "execution_count": 43,
   "metadata": {},
   "outputs": [],
   "source": [
    "# cross-entropy loss\n",
    "def loss(y_true, y_pred):\n",
    "    return np.sum(-y_true * np.log(y_pred), axis=1)\n",
    "    "
   ]
  },
  {
   "cell_type": "code",
   "execution_count": 45,
   "metadata": {},
   "outputs": [
    {
     "data": {
      "text/plain": [
       "array([ 0.09782685, 29.19992162, 22.51746648, 30.89946208])"
      ]
     },
     "execution_count": 45,
     "metadata": {},
     "output_type": "execute_result"
    }
   ],
   "source": [
    "loss(onehot(Ytr[:4], n_class), output)"
   ]
  },
  {
   "cell_type": "code",
   "execution_count": 46,
   "metadata": {},
   "outputs": [
    {
     "data": {
      "text/plain": [
       "array([6, 9, 9, 4])"
      ]
     },
     "execution_count": 46,
     "metadata": {},
     "output_type": "execute_result"
    }
   ],
   "source": [
    "# true labels\n",
    "Ytr[:4]"
   ]
  },
  {
   "cell_type": "code",
   "execution_count": 49,
   "metadata": {},
   "outputs": [
    {
     "data": {
      "text/plain": [
       "array([6, 2, 3, 2])"
      ]
     },
     "execution_count": 49,
     "metadata": {},
     "output_type": "execute_result"
    }
   ],
   "source": [
    "# model prediction\n",
    "np.argmax(output, axis=1)"
   ]
  },
  {
   "cell_type": "code",
   "execution_count": 50,
   "metadata": {},
   "outputs": [],
   "source": [
    "# cross-entropy loss to give a single number\n",
    "def loss(y_true, y_pred):\n",
    "    return np.mean(np.sum(-y_true * np.log(y_pred), axis=1))\n",
    "    "
   ]
  },
  {
   "cell_type": "code",
   "execution_count": 51,
   "metadata": {},
   "outputs": [
    {
     "data": {
      "text/plain": [
       "20.678669259870297"
      ]
     },
     "execution_count": 51,
     "metadata": {},
     "output_type": "execute_result"
    }
   ],
   "source": [
    "loss(onehot(Ytr[:4], n_class), output) # mean of 4 losses"
   ]
  },
  {
   "cell_type": "code",
   "execution_count": 56,
   "metadata": {},
   "outputs": [
    {
     "name": "stdout",
     "output_type": "stream",
     "text": [
      "Test loss = 21.45921\n"
     ]
    }
   ],
   "source": [
    "# calculate loss for the entire test set\n",
    "y_pred = lc.forward(Xte)\n",
    "y_true = onehot(Yte, n_class)\n",
    "test_loss = loss(y_true, y_pred)\n",
    "print('Test loss = %.5f' % test_loss)"
   ]
  },
  {
   "cell_type": "code",
   "execution_count": null,
   "metadata": {},
   "outputs": [],
   "source": []
  }
 ],
 "metadata": {
  "interpreter": {
   "hash": "d1a104cc5a30ffb61dcba35c048d59e2a2543d3b82917e7c4c5fa986c3cfbc1d"
  },
  "kernelspec": {
   "display_name": "Python 3.9.11 ('pytorch')",
   "language": "python",
   "name": "python3"
  },
  "language_info": {
   "codemirror_mode": {
    "name": "ipython",
    "version": 3
   },
   "file_extension": ".py",
   "mimetype": "text/x-python",
   "name": "python",
   "nbconvert_exporter": "python",
   "pygments_lexer": "ipython3",
   "version": "3.9.11"
  },
  "orig_nbformat": 4
 },
 "nbformat": 4,
 "nbformat_minor": 2
}
